{
 "cells": [
  {
   "cell_type": "code",
   "execution_count": 1,
   "metadata": {},
   "outputs": [],
   "source": [
    "# tic tac toe board\n",
    "board = [' ',' ',' ',' ',' ',' ',' ',' ',' ']"
   ]
  },
  {
   "cell_type": "code",
   "execution_count": 2,
   "metadata": {},
   "outputs": [],
   "source": [
    "# displaying the board\n",
    "from IPython.display import clear_output\n",
    "\n",
    "def display(board):\n",
    "    \n",
    "    clear_output()\n",
    "    print('  ','|',' ','|')\n",
    "    print('',board[0],'|',board[1],'|',board[2])\n",
    "    print('  ','|',' ','|')\n",
    "    print('-----------')\n",
    "    print('  ','|',' ','|')\n",
    "    print('',board[3],'|',board[4],'|',board[5])\n",
    "    print('  ','|',' ','|')\n",
    "    print('-----------')\n",
    "    print('  ','|',' ','|')\n",
    "    print('',board[6],'|',board[7],'|',board[8])\n",
    "    print('  ','|',' ','|')"
   ]
  },
  {
   "cell_type": "code",
   "execution_count": 3,
   "metadata": {},
   "outputs": [],
   "source": [
    "# evaluating win or lose\n",
    "def evaluate(state):\n",
    "    if wins(state, c_choice):\n",
    "        score = +1\n",
    "    elif wins(state, h_choice):\n",
    "        score = -1\n",
    "    else:\n",
    "        score = 0\n",
    "\n",
    "    return score"
   ]
  },
  {
   "cell_type": "code",
   "execution_count": 4,
   "metadata": {},
   "outputs": [],
   "source": [
    "# winning condition\n",
    "def wins(state, player):\n",
    "    if(state[0]==state[1]==state[2]==player or\n",
    "      state[3]==state[4]==state[5]==player or\n",
    "      state[6]==state[7]==state[8]==player or\n",
    "      state[0]==state[3]==state[6]==player or\n",
    "      state[1]==state[4]==state[7]==player or\n",
    "      state[2]==state[5]==state[8]==player or\n",
    "      state[0]==state[4]==state[8]==player or\n",
    "      state[6]==state[4]==state[2]==player):\n",
    "        \n",
    "        return True\n",
    "    \n",
    "    else:\n",
    "        return False"
   ]
  },
  {
   "cell_type": "code",
   "execution_count": 5,
   "metadata": {},
   "outputs": [],
   "source": [
    "# check whether the game is over\n",
    "def game_over(state):\n",
    "    return wins(state, h_choice) or wins(state, c_choice)"
   ]
  },
  {
   "cell_type": "code",
   "execution_count": 6,
   "metadata": {},
   "outputs": [],
   "source": [
    "# find the empty cells\n",
    "def empty_cells(state):\n",
    "    cells = []\n",
    "    for i in range(0,9):\n",
    "        if(state[i] == ' '):\n",
    "            cells.append(i)\n",
    "    return cells"
   ]
  },
  {
   "cell_type": "code",
   "execution_count": 7,
   "metadata": {},
   "outputs": [],
   "source": [
    "# check whether the move is valid\n",
    "def valid_move(x):\n",
    "    if x in empty_cells(board):\n",
    "        return True\n",
    "    else:\n",
    "        return False"
   ]
  },
  {
   "cell_type": "code",
   "execution_count": 8,
   "metadata": {},
   "outputs": [],
   "source": [
    "# placing the move\n",
    "def set_move(x, player):\n",
    "    if valid_move(x):\n",
    "        board[x] = player\n",
    "        return True\n",
    "    else:\n",
    "        return False"
   ]
  },
  {
   "cell_type": "code",
   "execution_count": 9,
   "metadata": {},
   "outputs": [],
   "source": [
    "# minimax algorithm to find computer's move\n",
    "def minimax(state, depth, player):\n",
    "    if player == c_choice:\n",
    "        best = [-9, -1000]\n",
    "    else:\n",
    "        best = [-9, +1000]\n",
    " \n",
    "    if depth == 0 or game_over(state):\n",
    "        score = evaluate(state)\n",
    "        return [-9, score]\n",
    "\n",
    "    for x in empty_cells(state):\n",
    "        if player == c_choice:\n",
    "            state[x] = c_choice\n",
    "            score = minimax(state, depth - 1, h_choice)\n",
    "            state[x] = ' '\n",
    "            score[0] = x\n",
    "            if score[1] > best[1]:\n",
    "                best = score  # max value\n",
    "        else:\n",
    "            state[x] = h_choice\n",
    "            score = minimax(state, depth - 1, c_choice)\n",
    "            state[x] = ' '\n",
    "            score[0] = x\n",
    "            if score[1] < best[1]:\n",
    "                best = score  # min value\n",
    "\n",
    "    return best"
   ]
  },
  {
   "cell_type": "code",
   "execution_count": 10,
   "metadata": {},
   "outputs": [],
   "source": [
    "# placing ai move\n",
    "import random\n",
    "\n",
    "def ai_turn(c_choice):\n",
    "    depth = len(empty_cells(board))\n",
    "    if depth == 0 or game_over(board):\n",
    "        return\n",
    "\n",
    "    print('Computer turn ','[',c_choice,']')\n",
    "    display(board)\n",
    "\n",
    "    if depth == 9:\n",
    "        x = random.randint(0,8)\n",
    "    else:\n",
    "        move = minimax(board, depth, c_choice)\n",
    "        x = move[0]\n",
    "\n",
    "    set_move(x, c_choice)\n",
    "    time.sleep(1)"
   ]
  },
  {
   "cell_type": "code",
   "execution_count": 11,
   "metadata": {},
   "outputs": [],
   "source": [
    "# placing human move\n",
    "def human_turn(h_choice):\n",
    "    depth = len(empty_cells(board))\n",
    "    if depth == 0 or game_over(board):\n",
    "        return\n",
    "\n",
    "    display(board)\n",
    "    # Dictionary of valid moves\n",
    "    move = -1\n",
    "    moves = {\n",
    "        1: 0, 2: 1, 3: 2,\n",
    "        4: 3, 5: 4, 6: 5,\n",
    "        7: 6, 8: 7, 9: 8,\n",
    "    }\n",
    "\n",
    "\n",
    "    print('Human turn ','[',h_choice,']')\n",
    "\n",
    "    while (move < 1 or move > 9):\n",
    "        try:\n",
    "            move = int(input('Use numpad (1..9): '))\n",
    "            coord = moves[move]\n",
    "            try_move = set_move(coord, h_choice)\n",
    "\n",
    "            if try_move == False:\n",
    "                print('Invalid Selection. Position is already occupied. Select another position')\n",
    "                move = -1\n",
    "        except:\n",
    "            print('Invalid Selection. Select numbers between \"1\" and \"9\"')"
   ]
  },
  {
   "cell_type": "code",
   "execution_count": 12,
   "metadata": {},
   "outputs": [
    {
     "name": "stdout",
     "output_type": "stream",
     "text": [
      "   |   |\n",
      " X | X | O\n",
      "   |   |\n",
      "-----------\n",
      "   |   |\n",
      " X | O |  \n",
      "   |   |\n",
      "-----------\n",
      "   |   |\n",
      " O |   |  \n",
      "   |   |\n",
      "YOU LOSE!\n"
     ]
    }
   ],
   "source": [
    "# main part of the game\n",
    "import time\n",
    "h_choice = '' # X or O\n",
    "c_choice = '' # X or O\n",
    "first = ''  # if human is the first\n",
    "\n",
    "# Human chooses X or O to play\n",
    "while h_choice != 'O' and h_choice != 'X':\n",
    "    try:\n",
    "        h_choice = input('Choose X or O\\nChosen: ').upper()\n",
    "        \n",
    "        if h_choice != 'O' and h_choice != 'X':\n",
    "            print('Invalid selection. Select either \"X\" or \"O\"')\n",
    "            \n",
    "    except:\n",
    "        print('Wrong act')\n",
    "\n",
    "# Setting computer's choice\n",
    "if h_choice == 'X':\n",
    "    c_choice = 'O'\n",
    "else:\n",
    "    c_choice = 'X'\n",
    "\n",
    "# Human may starts first\n",
    "while first != 'Y' and first != 'N':\n",
    "    try:\n",
    "        first = input('First to start?[y/n]: ').upper()\n",
    "        \n",
    "        if first != 'Y' and first != 'N':\n",
    "            print('Invalid Selection. Select either \"y\" or \"n\"')\n",
    "    except:\n",
    "        print('Wrong act')\n",
    "\n",
    "# Main loop of this game\n",
    "while len(empty_cells(board)) > 0 and not game_over(board):\n",
    "    if first == 'N':\n",
    "        ai_turn(c_choice)\n",
    "        first = ''\n",
    "\n",
    "    human_turn(h_choice)\n",
    "    ai_turn(c_choice)\n",
    "\n",
    "# Game over message\n",
    "if wins(board, h_choice):\n",
    "    display(board)\n",
    "    print('YOU WIN!')\n",
    "elif wins(board, c_choice):\n",
    "    display(board)\n",
    "    print('YOU LOSE!')\n",
    "else:\n",
    "    display(board)\n",
    "    print('DRAW!')"
   ]
  },
  {
   "cell_type": "code",
   "execution_count": null,
   "metadata": {},
   "outputs": [],
   "source": []
  }
 ],
 "metadata": {
  "kernelspec": {
   "display_name": "Python 3",
   "language": "python",
   "name": "python3"
  },
  "language_info": {
   "codemirror_mode": {
    "name": "ipython",
    "version": 3
   },
   "file_extension": ".py",
   "mimetype": "text/x-python",
   "name": "python",
   "nbconvert_exporter": "python",
   "pygments_lexer": "ipython3",
   "version": "3.6.5"
  }
 },
 "nbformat": 4,
 "nbformat_minor": 2
}
